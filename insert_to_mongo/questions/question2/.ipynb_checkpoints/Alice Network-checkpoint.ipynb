{
 "cells": [
  {
   "cell_type": "code",
   "execution_count": null,
   "id": "21b3fc31",
   "metadata": {},
   "outputs": [],
   "source": [
    "# Set up dependencies if needed. Most likely it'll have been installed for you.\n",
    "!pip install numpy torchvision\n",
    "!pip install torch"
   ]
  },
  {
   "cell_type": "code",
   "execution_count": null,
   "id": "ce8f44fb",
   "metadata": {},
   "outputs": [],
   "source": [
    "import torch\n",
    "import torch.nn as nn\n",
    "torch.__version__"
   ]
  },
  {
   "cell_type": "code",
   "execution_count": null,
   "id": "17baa6f8",
   "metadata": {},
   "outputs": [],
   "source": [
    "# The network architecture used by Alice\n",
    "class AliceNet(nn.Module):\n",
    "    def __init__(self, input_size, hidden_size1, hidden_size2, output_size):\n",
    "        super(AliceNet , self).__init__()\n",
    "        self.fc1 = nn.Linear(  input_size, hidden_size1 )\n",
    "        self.fc2 = nn.Linear(  hidden_size1, hidden_size2 )\n",
    "        self.fc3 = nn.Linear(  hidden_size2, output_size )\n",
    "    def forward(self, x):\n",
    "        x = self.fc1(x)\n",
    "        x = torch.relu(x)\n",
    "        x = self.fc2(x)\n",
    "        x = torch.relu(x)\n",
    "        score = self.fc3(x)\n",
    "        return score\n",
    "    \n",
    "# Init Alice's network\n",
    "net_alice = AliceNet(3,5,5,1)\n",
    "print(net_alice)"
   ]
  },
  {
   "cell_type": "code",
   "execution_count": null,
   "id": "5e3045ac",
   "metadata": {},
   "outputs": [],
   "source": [
    "def alice_net_inference(x, net_alice):      \n",
    "    # Load the parameters\n",
    "    net_alice.load_state_dict(torch.load(\"alice_model.pt\"))\n",
    "\n",
    "    # Try to inference using Alice's model\n",
    "    # We want the API to return the scala number in y tensor \n",
    "    net_alice.eval()\n",
    "    y = net_alice(x)\n",
    "    return y.item()"
   ]
  },
  {
   "cell_type": "code",
   "execution_count": null,
   "id": "6e878185",
   "metadata": {},
   "outputs": [],
   "source": [
    "x = torch.tensor([1.3, 0.5, 3])\n",
    "y = alice_net_inference(x, net_alice)\n",
    "print (y)"
   ]
  },
  {
   "cell_type": "code",
   "execution_count": null,
   "id": "403f3a2d",
   "metadata": {},
   "outputs": [],
   "source": []
  }
 ],
 "metadata": {
  "kernelspec": {
   "display_name": "Python 3 (ipykernel)",
   "language": "python",
   "name": "python3"
  },
  "language_info": {
   "codemirror_mode": {
    "name": "ipython",
    "version": 3
   },
   "file_extension": ".py",
   "mimetype": "text/x-python",
   "name": "python",
   "nbconvert_exporter": "python",
   "pygments_lexer": "ipython3",
   "version": "3.8.12"
  }
 },
 "nbformat": 4,
 "nbformat_minor": 5
}
